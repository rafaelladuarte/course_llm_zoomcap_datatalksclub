{
 "cells": [
  {
   "cell_type": "markdown",
   "id": "a38378e2",
   "metadata": {},
   "source": [
    "# Homework: Workshop Open-Source Data Ingestion"
   ]
  },
  {
   "cell_type": "markdown",
   "id": "547ad800",
   "metadata": {},
   "source": [
    "## Q1. dlt Version"
   ]
  },
  {
   "cell_type": "markdown",
   "id": "5a07a87b",
   "metadata": {},
   "source": [
    "In this homework, we will load the data from our FAQ to Qdrant\n",
    "\n",
    "Let's install dlt with Qdrant support and Qdrant client:"
   ]
  },
  {
   "cell_type": "code",
   "execution_count": null,
   "id": "0f8c98fd",
   "metadata": {},
   "outputs": [],
   "source": [
    "#pip install -q \"dlt[qdrant]\" \"qdrant-client[fastembed]\"\n",
    "!pipenv install \"dlt[qdrant]\" \"qdrant-client[fastembed]\""
   ]
  },
  {
   "cell_type": "markdown",
   "id": "1dbb70a5",
   "metadata": {},
   "source": [
    "What's the version of dlt that you installed?"
   ]
  },
  {
   "cell_type": "code",
   "execution_count": null,
   "id": "85eb343e",
   "metadata": {},
   "outputs": [],
   "source": [
    "!pipenv graph"
   ]
  },
  {
   "cell_type": "markdown",
   "id": "83a62994",
   "metadata": {},
   "source": [
    "The version of dlt is **1.12.3**"
   ]
  },
  {
   "cell_type": "markdown",
   "id": "e61a93b2",
   "metadata": {},
   "source": [
    "## Q2. dlt Resourse + dlt Pipeline"
   ]
  },
  {
   "cell_type": "markdown",
   "id": "d3bd7660",
   "metadata": {},
   "source": [
    "### dlt Resourse"
   ]
  },
  {
   "cell_type": "markdown",
   "id": "1f151766",
   "metadata": {},
   "source": [
    "For reading the FAQ data, we have this helper function:"
   ]
  },
  {
   "cell_type": "code",
   "execution_count": null,
   "id": "e7010b2e",
   "metadata": {},
   "outputs": [],
   "source": [
    "import requests\n",
    "\n",
    "def zoomcamp_data():\n",
    "    docs_url = 'https://github.com/alexeygrigorev/llm-rag-workshop/raw/main/notebooks/documents.json'\n",
    "    docs_response = requests.get(docs_url)\n",
    "    documents_raw = docs_response.json()\n",
    "\n",
    "    for course in documents_raw:\n",
    "        course_name = course['course']\n",
    "\n",
    "        for doc in course['documents']:\n",
    "            doc['course'] = course_name\n",
    "            yield doc"
   ]
  },
  {
   "cell_type": "markdown",
   "id": "94c0d8d3",
   "metadata": {},
   "source": [
    "Annotate it with @dlt.resource. We will use it when creating a dlt pipeline."
   ]
  },
  {
   "cell_type": "markdown",
   "id": "1f384dbe",
   "metadata": {},
   "source": [
    "### dlt Pipeline"
   ]
  },
  {
   "cell_type": "markdown",
   "id": "979ca7ca",
   "metadata": {},
   "source": [
    "Now let's create a pipeline.\n",
    "\n",
    "We need to define a destination for that. Let's use the qdrant one:"
   ]
  },
  {
   "cell_type": "code",
   "execution_count": null,
   "id": "a3cceba2",
   "metadata": {},
   "outputs": [],
   "source": [
    "from dlt.destinations import qdrant\n",
    "\n",
    "qdrant_destination = qdrant(\n",
    "  qd_path=\"db.qdrant\", \n",
    ")"
   ]
  },
  {
   "cell_type": "markdown",
   "id": "3f6769ea",
   "metadata": {},
   "source": [
    "In this case, we tell dlt (and Qdrant) to create a folder with our data, and the name for it will be db.qdrant\n",
    "\n",
    "Let's run it:"
   ]
  },
  {
   "cell_type": "code",
   "execution_count": null,
   "id": "fb97a5a1",
   "metadata": {},
   "outputs": [],
   "source": [
    "import dlt"
   ]
  },
  {
   "cell_type": "code",
   "execution_count": null,
   "id": "28328657",
   "metadata": {},
   "outputs": [],
   "source": [
    "pipeline = dlt.pipeline(\n",
    "    pipeline_name=\"zoomcamp_pipeline\",\n",
    "    destination=qdrant_destination,\n",
    "    dataset_name=\"zoomcamp_tagged_data\"\n",
    "\n",
    ")\n",
    "load_info = pipeline.run(zoomcamp_data())\n",
    "print(pipeline.last_trace)"
   ]
  },
  {
   "cell_type": "markdown",
   "id": "a016cb65",
   "metadata": {},
   "source": [
    "How many rows were inserted into the `zoomcamp_data` collection?\n",
    "\n",
    "Look for `\"Normalized data for the following tables:\"` in the trace output."
   ]
  },
  {
   "cell_type": "markdown",
   "id": "d7c671c3",
   "metadata": {},
   "source": [
    "Insert **948** rows in thte `zoomcamp_data` collection."
   ]
  },
  {
   "cell_type": "markdown",
   "id": "f61eaca2",
   "metadata": {},
   "source": [
    "## Q3. Embeddings"
   ]
  },
  {
   "cell_type": "markdown",
   "id": "a0a75cda",
   "metadata": {},
   "source": [
    "When inserting the data, an embedding model was used. Which one?\n",
    "\n",
    "You can find this out by inspecting the meta.json file created in the target folder."
   ]
  }
 ],
 "metadata": {
  "kernelspec": {
   "display_name": "course_llm_zoomcap_datatalksclub-mMvewVgg",
   "language": "python",
   "name": "python3"
  },
  "language_info": {
   "codemirror_mode": {
    "name": "ipython",
    "version": 3
   },
   "file_extension": ".py",
   "mimetype": "text/x-python",
   "name": "python",
   "nbconvert_exporter": "python",
   "pygments_lexer": "ipython3",
   "version": "3.12.3"
  }
 },
 "nbformat": 4,
 "nbformat_minor": 5
}
